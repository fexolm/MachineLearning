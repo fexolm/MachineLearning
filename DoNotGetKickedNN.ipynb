{
 "cells": [
  {
   "cell_type": "code",
   "execution_count": 1,
   "metadata": {},
   "outputs": [],
   "source": [
    "import numpy as np\n",
    "import matplotlib.pyplot as plt\n",
    "import pandas as pd\n",
    "\n",
    "%matplotlib inline"
   ]
  },
  {
   "cell_type": "markdown",
   "metadata": {},
   "source": [
    "# Предобработка данных из прошлого ноутбука"
   ]
  },
  {
   "cell_type": "code",
   "execution_count": 2,
   "metadata": {},
   "outputs": [],
   "source": [
    "row_data = pd.read_csv(\"training.csv\")"
   ]
  },
  {
   "cell_type": "code",
   "execution_count": 3,
   "metadata": {},
   "outputs": [],
   "source": [
    "def fill_price(df, col):\n",
    "    # I'm not sure what is the best way to fill prices\n",
    "    df[col].fillna(df[col].mean(), inplace = True)"
   ]
  },
  {
   "cell_type": "code",
   "execution_count": 4,
   "metadata": {},
   "outputs": [],
   "source": [
    "def data_fillna(df):\n",
    "    res = df.drop(['RefId', 'WheelTypeID'], axis = 1)\n",
    "    # I'll drop Model for now, as I don't know how to correctly encode it.\n",
    "    # Making 1063 labels with one hot encoding looks bad for me, as I would use knn.\n",
    "    # The same for Trim and SubModel, maybe I would need some text processing later\n",
    "    # to extract features from SubModel such as 'Wagon', 'Sedan', 'Sport' etc, but I'm not there yet\n",
    "    res = res.drop(['Model', 'Trim', 'SubModel'], axis = 1) \n",
    "    \n",
    "    res['WheelType'].fillna('NotSpecified', inplace = True)\n",
    "    \n",
    "    res['PRIMEUNIT'].fillna(\"NO\", inplace = True)\n",
    "    res['AUCGUART'].fillna('RED', inplace = True)\n",
    "    \n",
    "    primeunit = {'NO': 0, 'YES': 1}\n",
    "    # yellow exists in dataset description\n",
    "    # we assume that RED < YELLOW < GREEN\n",
    "    aucguart = {'RED': -1, 'YELLOW': 0, 'GREEN': 1} \n",
    "    \n",
    "    res['PRIMEUNIT'].replace(primeunit, inplace = True)\n",
    "    res['AUCGUART'].replace(aucguart, inplace = True)\n",
    "    \n",
    "    res['TopThreeAmericanName'].fillna('OTHER', inplace = True)\n",
    "\n",
    "    res['AutoTransmition'] = res.apply(lambda t: t['Transmission'] == 'AUTO', axis = 1).astype(np.int64)\n",
    "    res = res.drop('Transmission', axis = 1)\n",
    "    \n",
    "    # maybe we can do better, but as we have only 5 instances without Size, lets do stupid things\n",
    "    res['Size'].fillna('MEDIUM', inplace = True) \n",
    "    \n",
    "    # I think VNST gives enough information about state\n",
    "    # as VNST zipcode is categorial feature, but with more instances, so I'll remove it\n",
    "    res = res.drop('VNZIP1', axis = 1)\n",
    "    \n",
    "    # I don't really understand this feature, so, I'll ignore it for now, \n",
    "    # As it will grow my feature space to 74 features\n",
    "    res = res.drop('BYRNO', axis = 1)\n",
    "    \n",
    "    res['Nationality'].fillna('OTHER', inplace = True)\n",
    "    \n",
    "    res['Color'].fillna('NOT AVAIL', inplace = True)\n",
    "    \n",
    "    fill_price(res, \"MMRAcquisitionAuctionAveragePrice\")\n",
    "    fill_price(res, \"MMRAcquisitionAuctionCleanPrice\")\n",
    "    fill_price(res, \"MMRAcquisitionRetailAveragePrice\")\n",
    "    fill_price(res, \"MMRAcquisitonRetailCleanPrice\")\n",
    "    fill_price(res, \"MMRCurrentAuctionAveragePrice\")\n",
    "    fill_price(res, \"MMRCurrentAuctionCleanPrice\")\n",
    "    fill_price(res, \"MMRCurrentRetailAveragePrice\")\n",
    "    fill_price(res, \"MMRCurrentRetailCleanPrice\")\n",
    "    \n",
    "    res['PurchDate'] = (pd.to_datetime(res['PurchDate']).astype(np.int64)/ 10**9).astype(np.int64)\n",
    "    \n",
    "    return res"
   ]
  },
  {
   "cell_type": "code",
   "execution_count": 5,
   "metadata": {},
   "outputs": [],
   "source": [
    "preprocessed_data = data_fillna(row_data)"
   ]
  },
  {
   "cell_type": "markdown",
   "metadata": {},
   "source": [
    "так как объектов слишком много, и обучение слишком долгое, я в любом случае обрезал бы датасет. но можно попробовать сделать это с пользой, сбалансировав классы"
   ]
  },
  {
   "cell_type": "code",
   "execution_count": 6,
   "metadata": {},
   "outputs": [],
   "source": [
    "from sklearn.utils import resample\n",
    "df_majority = preprocessed_data[preprocessed_data.IsBadBuy==0]\n",
    "df_minority = preprocessed_data[preprocessed_data.IsBadBuy==1]"
   ]
  },
  {
   "cell_type": "code",
   "execution_count": 7,
   "metadata": {},
   "outputs": [
    {
     "data": {
      "text/plain": [
       "8976"
      ]
     },
     "execution_count": 7,
     "metadata": {},
     "output_type": "execute_result"
    }
   ],
   "source": [
    "df_minority.shape[0]"
   ]
  },
  {
   "cell_type": "code",
   "execution_count": 8,
   "metadata": {},
   "outputs": [],
   "source": [
    "df_majority_downsampled = resample(df_majority, replace=False,n_samples=df_minority.shape[0], random_state=123) "
   ]
  },
  {
   "cell_type": "code",
   "execution_count": 9,
   "metadata": {},
   "outputs": [],
   "source": [
    "preprocessed_data = pd.concat([df_majority_downsampled, df_minority])"
   ]
  },
  {
   "cell_type": "code",
   "execution_count": 10,
   "metadata": {},
   "outputs": [],
   "source": [
    "from sklearn import preprocessing\n",
    "\n",
    "min_max_scaler = preprocessing.MinMaxScaler()\n",
    "\n",
    "def final_data_preparation(df):\n",
    "    nonbinary_cols = list(filter(lambda c: df[c].dtype == object, df.columns))\n",
    "    data_nonbinary = pd.get_dummies(df[nonbinary_cols])\n",
    "    tmp = df.drop(nonbinary_cols, axis=1)\n",
    "    tmp = pd.concat((tmp, data_nonbinary), axis = 1)\n",
    "    # we normalize also binary data, assuming it is [0, 1]\n",
    "    y = tmp['IsBadBuy'].get_values()\n",
    "    X = tmp.drop('IsBadBuy', axis = 1).get_values()\n",
    "    X = min_max_scaler.fit_transform(X)\n",
    "    return (X, y)"
   ]
  },
  {
   "cell_type": "code",
   "execution_count": 11,
   "metadata": {},
   "outputs": [],
   "source": [
    "X, y = final_data_preparation(preprocessed_data)"
   ]
  },
  {
   "cell_type": "code",
   "execution_count": 12,
   "metadata": {},
   "outputs": [],
   "source": [
    "from sklearn.model_selection import train_test_split\n",
    "X_train, X_test, y_train, y_test = train_test_split(X, y, test_size = 0.2, random_state = 1)"
   ]
  },
  {
   "cell_type": "markdown",
   "metadata": {},
   "source": [
    "# Использование нейронной сети "
   ]
  },
  {
   "cell_type": "code",
   "execution_count": 13,
   "metadata": {},
   "outputs": [],
   "source": [
    "from sklearn.neural_network import MLPClassifier"
   ]
  },
  {
   "cell_type": "markdown",
   "metadata": {},
   "source": [
    "# Используем нейронную сеть со 100 нейронами и разными параметрами альфа. (взял из примера)"
   ]
  },
  {
   "cell_type": "code",
   "execution_count": 14,
   "metadata": {},
   "outputs": [],
   "source": [
    "alpha_arr = np.logspace(-3, 2, 25)\n",
    "test_err = []\n",
    "train_err = []\n",
    "for alpha in alpha_arr:\n",
    "    mlp_model = MLPClassifier(alpha = alpha, hidden_layer_sizes = (100,), activation = 'logistic', random_state = 42)\n",
    "    mlp_model.fit(X_train, y_train)\n",
    "\n",
    "    y_train_pred = mlp_model.predict(X_train)\n",
    "    y_test_pred = mlp_model.predict(X_test)\n",
    "    train_err.append(np.mean(y_train != y_train_pred))\n",
    "    test_err.append(np.mean(y_test != y_test_pred))"
   ]
  },
  {
   "cell_type": "code",
   "execution_count": 15,
   "metadata": {},
   "outputs": [
    {
     "data": {
      "image/png": "[encoded data removed]",
      "text/plain": [
       "<Figure size 432x288 with 1 Axes>"
      ]
     },
     "metadata": {
      "needs_background": "light"
     },
     "output_type": "display_data"
    }
   ],
   "source": [
    "plt.semilogx(alpha_arr, train_err, 'b-o', label = 'train')\n",
    "plt.semilogx(alpha_arr, test_err, 'r-o', label = 'test')\n",
    "plt.xlim([np.max(alpha_arr), np.min(alpha_arr)])\n",
    "plt.title('Error vs. alpha')\n",
    "plt.xlabel('alpha')\n",
    "plt.ylabel('error')\n",
    "plt.legend()\n",
    "pass"
   ]
  },
  {
   "cell_type": "markdown",
   "metadata": {},
   "source": [
    "**Вывод: при малых значениях параметра alpha ошибка минимальна**"
   ]
  },
  {
   "cell_type": "markdown",
   "metadata": {},
   "source": [
    "# Построим график зависимости ошибки от числа нейронов"
   ]
  },
  {
   "cell_type": "code",
   "execution_count": 16,
   "metadata": {},
   "outputs": [],
   "source": [
    "n_arr = np.linspace(1, 1000, 25, dtype=int)\n",
    "test_err = []\n",
    "train_err = []\n",
    "for n in n_arr:\n",
    "    mlp_model = MLPClassifier(alpha = 0.1, hidden_layer_sizes = (n,), activation = 'logistic', random_state = 42)\n",
    "    mlp_model.fit(X_train, y_train)\n",
    "\n",
    "    y_train_pred = mlp_model.predict(X_train)\n",
    "    y_test_pred = mlp_model.predict(X_test)\n",
    "    train_err.append(np.mean(y_train != y_train_pred))\n",
    "    test_err.append(np.mean(y_test != y_test_pred))"
   ]
  },
  {
   "cell_type": "code",
   "execution_count": 17,
   "metadata": {},
   "outputs": [
    {
     "data": {
      "image/png": "[encoded data removed]",
      "text/plain": [
       "<Figure size 432x288 with 1 Axes>"
      ]
     },
     "metadata": {
      "needs_background": "light"
     },
     "output_type": "display_data"
    }
   ],
   "source": [
    "plt.plot(n_arr, train_err, 'b-o', label = 'train')\n",
    "plt.plot(n_arr, test_err, 'r-o', label = 'test')\n",
    "plt.title('Error vs. neurons count')\n",
    "plt.xlabel('neurons count')\n",
    "plt.ylabel('error')\n",
    "plt.legend()\n",
    "pass"
   ]
  },
  {
   "cell_type": "code",
   "execution_count": 18,
   "metadata": {},
   "outputs": [],
   "source": [
    "configurations = [\n",
    "    (1000,),\n",
    "    (500, 500,),\n",
    "    (333, 333, 334,),\n",
    "    (250, 250, 250, 250),\n",
    "]\n",
    "test_err = []\n",
    "train_err = []\n",
    "for c in configurations:\n",
    "    mlp_model = MLPClassifier(alpha = 0.1, hidden_layer_sizes = c, activation = 'logistic', random_state = 42)\n",
    "    mlp_model.fit(X_train, y_train)\n",
    "\n",
    "    y_train_pred = mlp_model.predict(X_train)\n",
    "    y_test_pred = mlp_model.predict(X_test)\n",
    "    train_err.append(np.mean(y_train != y_train_pred))\n",
    "    test_err.append(np.mean(y_test != y_test_pred))"
   ]
  },
  {
   "cell_type": "code",
   "execution_count": 19,
   "metadata": {},
   "outputs": [
    {
     "data": {
      "image/png": "[encoded data removed]",
      "text/plain": [
       "<Figure size 432x288 with 1 Axes>"
      ]
     },
     "metadata": {
      "needs_background": "light"
     },
     "output_type": "display_data"
    }
   ],
   "source": [
    "plt.plot(list(range(1, 5)), train_err, 'b-o', label = 'train')\n",
    "plt.plot(list(range(1, 5)), test_err, 'r-o', label = 'test')\n",
    "plt.title('Error vs. layers count')\n",
    "plt.xlabel('layers count')\n",
    "plt.ylabel('error')\n",
    "plt.legend()\n",
    "pass"
   ]
  },
  {
   "cell_type": "markdown",
   "metadata": {},
   "source": [
    "Вывод:  \n",
    "Нет четкой связи между количеством нейронов и ошибкой.  \n",
    "При равном числе нейронов, увеличение слоев увеличивает ошибку."
   ]
  },
  {
   "cell_type": "markdown",
   "metadata": {},
   "source": [
    "# Применим PCA"
   ]
  },
  {
   "cell_type": "code",
   "execution_count": 27,
   "metadata": {},
   "outputs": [
    {
     "name": "stdout",
     "output_type": "stream",
     "text": [
      "Without PCA:  0.30944920270176174 0.3305485937064884\n",
      "Wit PCA:      0.32483810319615625 0.33778891673628514\n",
      "Without PCA: \n",
      " [[1262  509]\n",
      " [ 678 1142]]\n",
      "Wit PCA: \n",
      " [[1424  347]\n",
      " [ 866  954]]\n"
     ]
    }
   ],
   "source": [
    "mlp_model = MLPClassifier(alpha = 0.1, hidden_layer_sizes = (1000, ), activation = 'logistic', random_state = 42)\n",
    "mlp_model.fit(X_train, y_train)\n",
    "y_train_pred = mlp_model.predict(X_train)\n",
    "y_test_pred = mlp_model.predict(X_test)\n",
    "\n",
    "from sklearn.decomposition import PCA\n",
    "pca = PCA(n_components=30)\n",
    "mlp_model = MLPClassifier(alpha = 0.1, hidden_layer_sizes = (1000, ), activation = 'logistic', random_state = 42)\n",
    "\n",
    "pca.fit(X_train)\n",
    "mlp_model.fit(pca.transform(X_train), y_train)\n",
    "y_train_pred_pca = mlp_model.predict(pca.transform(X_train))\n",
    "y_test_pred_pca = mlp_model.predict(pca.transform(X_test))\n",
    "\n",
    "print(\"Without PCA: \", np.mean(y_train != y_train_pred), np.mean(y_test != y_test_pred))\n",
    "print(\"Wit PCA:     \", np.mean(y_train != y_train_pred_pca), np.mean(y_test != y_test_pred_pca))\n",
    "\n",
    "from sklearn.metrics import confusion_matrix\n",
    "\n",
    "print(\"Without PCA: \\n\", confusion_matrix(y_test, y_test_pred))\n",
    "\n",
    "print(\"Wit PCA: \\n\", confusion_matrix(y_test, y_test_pred_pca))"
   ]
  },
  {
   "cell_type": "markdown",
   "metadata": {},
   "source": [
    "Вывод: ошибка с PCA увеличилась не сильно, а количество признаков уменьшилось в 3 раза "
   ]
  },
  {
   "cell_type": "code",
   "execution_count": null,
   "metadata": {},
   "outputs": [],
   "source": []
  }
 ],
 "metadata": {
  "kernelspec": {
   "display_name": "Python 3",
   "language": "python",
   "name": "python3"
  },
  "language_info": {
   "codemirror_mode": {
    "name": "ipython",
    "version": 3
   },
   "file_extension": ".py",
   "mimetype": "text/x-python",
   "name": "python",
   "nbconvert_exporter": "python",
   "pygments_lexer": "ipython3",
   "version": "3.7.3"
  }
 },
 "nbformat": 4,
 "nbformat_minor": 2
}
