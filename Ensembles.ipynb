{
 "cells": [
  {
   "cell_type": "code",
   "execution_count": 1,
   "metadata": {},
   "outputs": [],
   "source": [
    "import numpy as np\n",
    "import matplotlib.pyplot as plt\n",
    "import pandas as pd\n",
    "\n",
    "%matplotlib inline"
   ]
  },
  {
   "cell_type": "code",
   "execution_count": 2,
   "metadata": {},
   "outputs": [],
   "source": [
    "row_data = pd.read_csv(\"training.csv\")"
   ]
  },
  {
   "cell_type": "code",
   "execution_count": 3,
   "metadata": {},
   "outputs": [],
   "source": [
    "def fill_price(df, col):\n",
    "    # I'm not sure what is the best way to fill prices\n",
    "    df[col].fillna(df[col].mean(), inplace = True)"
   ]
  },
  {
   "cell_type": "code",
   "execution_count": 4,
   "metadata": {},
   "outputs": [],
   "source": [
    "def data_fillna(df):\n",
    "    res = df.drop(['RefId', 'WheelTypeID'], axis = 1)\n",
    "    # I'll drop Model for now, as I don't know how to correctly encode it.\n",
    "    # Making 1063 labels with one hot encoding looks bad for me, as I would use knn.\n",
    "    # The same for Trim and SubModel, maybe I would need some text processing later\n",
    "    # to extract features from SubModel such as 'Wagon', 'Sedan', 'Sport' etc, but I'm not there yet\n",
    "    res = res.drop(['Model', 'Trim', 'SubModel'], axis = 1) \n",
    "    \n",
    "    res['WheelType'].fillna('NotSpecified', inplace = True)\n",
    "    \n",
    "    res['PRIMEUNIT'].fillna(\"NO\", inplace = True)\n",
    "    res['AUCGUART'].fillna('RED', inplace = True)\n",
    "    \n",
    "    primeunit = {'NO': 0, 'YES': 1}\n",
    "    # yellow exists in dataset description\n",
    "    # we assume that RED < YELLOW < GREEN\n",
    "    aucguart = {'RED': -1, 'YELLOW': 0, 'GREEN': 1} \n",
    "    \n",
    "    res['PRIMEUNIT'].replace(primeunit, inplace = True)\n",
    "    res['AUCGUART'].replace(aucguart, inplace = True)\n",
    "    \n",
    "    res['TopThreeAmericanName'].fillna('OTHER', inplace = True)\n",
    "\n",
    "    res['AutoTransmition'] = res.apply(lambda t: t['Transmission'] == 'AUTO', axis = 1).astype(np.int64)\n",
    "    res = res.drop('Transmission', axis = 1)\n",
    "    \n",
    "    # maybe we can do better, but as we have only 5 instances without Size, lets do stupid things\n",
    "    res['Size'].fillna('MEDIUM', inplace = True) \n",
    "    \n",
    "    # I think VNST gives enough information about state\n",
    "    # as VNST zipcode is categorial feature, but with more instances, so I'll remove it\n",
    "    res = res.drop('VNZIP1', axis = 1)\n",
    "    \n",
    "    # I don't really understand this feature, so, I'll ignore it for now, \n",
    "    # As it will grow my feature space to 74 features\n",
    "    res = res.drop('BYRNO', axis = 1)\n",
    "    \n",
    "    res['Nationality'].fillna('OTHER', inplace = True)\n",
    "    \n",
    "    res['Color'].fillna('NOT AVAIL', inplace = True)\n",
    "    \n",
    "    fill_price(res, \"MMRAcquisitionAuctionAveragePrice\")\n",
    "    fill_price(res, \"MMRAcquisitionAuctionCleanPrice\")\n",
    "    fill_price(res, \"MMRAcquisitionRetailAveragePrice\")\n",
    "    fill_price(res, \"MMRAcquisitonRetailCleanPrice\")\n",
    "    fill_price(res, \"MMRCurrentAuctionAveragePrice\")\n",
    "    fill_price(res, \"MMRCurrentAuctionCleanPrice\")\n",
    "    fill_price(res, \"MMRCurrentRetailAveragePrice\")\n",
    "    fill_price(res, \"MMRCurrentRetailCleanPrice\")\n",
    "    \n",
    "    res['PurchDate'] = (pd.to_datetime(res['PurchDate']).astype(np.int64)/ 10**9).astype(np.int64)\n",
    "    \n",
    "    return res"
   ]
  },
  {
   "cell_type": "code",
   "execution_count": 5,
   "metadata": {},
   "outputs": [],
   "source": [
    "preprocessed_data = data_fillna(row_data)"
   ]
  },
  {
   "cell_type": "code",
   "execution_count": 6,
   "metadata": {},
   "outputs": [],
   "source": [
    "from sklearn import preprocessing\n",
    "\n",
    "min_max_scaler = preprocessing.MinMaxScaler()\n",
    "\n",
    "def final_data_preparation(df):\n",
    "    nonbinary_cols = list(filter(lambda c: df[c].dtype == object, df.columns))\n",
    "    data_nonbinary = pd.get_dummies(df[nonbinary_cols])\n",
    "    tmp = df.drop(nonbinary_cols, axis=1)\n",
    "    tmp = pd.concat((tmp, data_nonbinary), axis = 1)\n",
    "    # we normalize also binary data, assuming it is [0, 1]\n",
    "    y = tmp['IsBadBuy'].get_values()\n",
    "    X = tmp.drop('IsBadBuy', axis = 1).get_values()\n",
    "    X = min_max_scaler.fit_transform(X)\n",
    "    return (X, y)"
   ]
  },
  {
   "cell_type": "code",
   "execution_count": 7,
   "metadata": {},
   "outputs": [],
   "source": [
    "X, y = final_data_preparation(preprocessed_data)"
   ]
  },
  {
   "cell_type": "code",
   "execution_count": 8,
   "metadata": {},
   "outputs": [],
   "source": [
    "from sklearn.model_selection import train_test_split\n",
    "X_train, X_test, y_train, y_test = train_test_split(X, y, test_size = 0.2, random_state = 1)"
   ]
  },
  {
   "cell_type": "code",
   "execution_count": 9,
   "metadata": {},
   "outputs": [],
   "source": [
    "from imblearn.ensemble import BalancedRandomForestClassifier\n",
    "\n",
    "forest = BalancedRandomForestClassifier (\n",
    "    n_estimators=1000,\n",
    "    criterion='gini',\n",
    "    max_depth=10,\n",
    "    bootstrap=True,\n",
    "    oob_score=True,\n",
    "    n_jobs=-1,\n",
    "    random_state=23)"
   ]
  },
  {
   "cell_type": "code",
   "execution_count": 10,
   "metadata": {},
   "outputs": [
    {
     "data": {
      "text/plain": [
       "BalancedRandomForestClassifier(bootstrap=True, ccp_alpha=0.0, class_weight=None,\n",
       "                               criterion='gini', max_depth=10,\n",
       "                               max_features='auto', max_leaf_nodes=None,\n",
       "                               max_samples=None, min_impurity_decrease=0.0,\n",
       "                               min_samples_leaf=2, min_samples_split=2,\n",
       "                               min_weight_fraction_leaf=0.0, n_estimators=1000,\n",
       "                               n_jobs=-1, oob_score=True, random_state=23,\n",
       "                               replacement=False, sampling_strategy='auto',\n",
       "                               verbose=0, warm_start=False)"
      ]
     },
     "execution_count": 10,
     "metadata": {},
     "output_type": "execute_result"
    }
   ],
   "source": [
    "forest.fit(X_train, y_train)"
   ]
  },
  {
   "cell_type": "code",
   "execution_count": 11,
   "metadata": {},
   "outputs": [],
   "source": [
    "from sklearn.metrics import confusion_matrix"
   ]
  },
  {
   "cell_type": "code",
   "execution_count": 12,
   "metadata": {},
   "outputs": [
    {
     "data": {
      "text/plain": [
       "array([[9446, 3459],\n",
       "       [ 619, 1073]], dtype=int64)"
      ]
     },
     "execution_count": 12,
     "metadata": {},
     "output_type": "execute_result"
    }
   ],
   "source": [
    "y_pred = forest.predict(X_test)\n",
    "confusion_matrix(y_test, y_pred)"
   ]
  },
  {
   "cell_type": "code",
   "execution_count": 13,
   "metadata": {},
   "outputs": [
    {
     "name": "stderr",
     "output_type": "stream",
     "text": [
      "C:\\ProgramData\\Anaconda3\\lib\\site-packages\\imblearn\\ensemble\\_forest.py:591: UserWarning: Some inputs do not have OOB scores. This probably means too few trees were used to compute any reliable oob estimates.\n",
      "  warn(\"Some inputs do not have OOB scores. \"\n",
      "C:\\ProgramData\\Anaconda3\\lib\\site-packages\\imblearn\\ensemble\\_forest.py:591: UserWarning: Some inputs do not have OOB scores. This probably means too few trees were used to compute any reliable oob estimates.\n",
      "  warn(\"Some inputs do not have OOB scores. \"\n",
      "C:\\ProgramData\\Anaconda3\\lib\\site-packages\\imblearn\\ensemble\\_forest.py:591: UserWarning: Some inputs do not have OOB scores. This probably means too few trees were used to compute any reliable oob estimates.\n",
      "  warn(\"Some inputs do not have OOB scores. \"\n",
      "C:\\ProgramData\\Anaconda3\\lib\\site-packages\\imblearn\\ensemble\\_forest.py:591: UserWarning: Some inputs do not have OOB scores. This probably means too few trees were used to compute any reliable oob estimates.\n",
      "  warn(\"Some inputs do not have OOB scores. \"\n",
      "C:\\ProgramData\\Anaconda3\\lib\\site-packages\\imblearn\\ensemble\\_forest.py:591: UserWarning: Some inputs do not have OOB scores. This probably means too few trees were used to compute any reliable oob estimates.\n",
      "  warn(\"Some inputs do not have OOB scores. \"\n",
      "C:\\ProgramData\\Anaconda3\\lib\\site-packages\\imblearn\\ensemble\\_forest.py:591: UserWarning: Some inputs do not have OOB scores. This probably means too few trees were used to compute any reliable oob estimates.\n",
      "  warn(\"Some inputs do not have OOB scores. \"\n",
      "C:\\ProgramData\\Anaconda3\\lib\\site-packages\\imblearn\\ensemble\\_forest.py:591: UserWarning: Some inputs do not have OOB scores. This probably means too few trees were used to compute any reliable oob estimates.\n",
      "  warn(\"Some inputs do not have OOB scores. \"\n",
      "C:\\ProgramData\\Anaconda3\\lib\\site-packages\\imblearn\\ensemble\\_forest.py:591: UserWarning: Some inputs do not have OOB scores. This probably means too few trees were used to compute any reliable oob estimates.\n",
      "  warn(\"Some inputs do not have OOB scores. \"\n",
      "C:\\ProgramData\\Anaconda3\\lib\\site-packages\\imblearn\\ensemble\\_forest.py:591: UserWarning: Some inputs do not have OOB scores. This probably means too few trees were used to compute any reliable oob estimates.\n",
      "  warn(\"Some inputs do not have OOB scores. \"\n"
     ]
    }
   ],
   "source": [
    "test_err = []\n",
    "train_err = []\n",
    "oob_err = []\n",
    "tree_count = np.logspace(2,3, num=30, dtype=int)\n",
    "for n in tree_count:\n",
    "    forest = BalancedRandomForestClassifier (\n",
    "        n_estimators=n,\n",
    "        criterion='gini',\n",
    "        max_depth=10,\n",
    "        bootstrap=True,\n",
    "        oob_score=True,\n",
    "        n_jobs=-1,\n",
    "        random_state=23)\n",
    "    forest.fit(X_train, y_train)\n",
    "    y_train_pred = forest.predict(X_train)\n",
    "    y_test_pred = forest.predict(X_test)\n",
    "    train_err.append(np.mean(y_train != y_train_pred))\n",
    "    test_err.append(np.mean(y_test != y_test_pred))\n",
    "    oob_err.append(1 - forest.oob_score_)"
   ]
  },
  {
   "cell_type": "code",
   "execution_count": 14,
   "metadata": {},
   "outputs": [
    {
     "data": {
      "image/png": "[encoded data removed]",
      "text/plain": [
       "<Figure size 432x288 with 1 Axes>"
      ]
     },
     "metadata": {
      "needs_background": "light"
     },
     "output_type": "display_data"
    }
   ],
   "source": [
    "fig = plt.figure()\n",
    "ax = fig.add_subplot(2, 1, 1)\n",
    "\n",
    "plt.plot(tree_count, train_err, color='r', label = 'train')\n",
    "plt.plot(tree_count, test_err, marker='o', linestyle='-', color='b', label = 'test')\n",
    "plt.plot(tree_count, oob_err, marker='o', linestyle='-', color='g', label = 'oob')\n",
    "\n",
    "plt.xlabel('Trees')\n",
    "\n",
    "plt.xticks(tree_count)\n",
    "plt.ylabel('Error')\n",
    "plt.legend()\n",
    "plt.show()"
   ]
  },
  {
   "cell_type": "markdown",
   "metadata": {},
   "source": [
    "Вывод: с ростом числа деревьев точность возрастает. Переобучения не наступает, так как данных много и деревья не очень глубокие\n",
    "Благодаря тому, что я использовал реализацию, которая учитывает несбалансированность выборки и позволяет обучать деревья на сбалансированных подмножествах\n",
    "алгоритм нормально распознает второй класс."
   ]
  },
  {
   "cell_type": "code",
   "execution_count": 17,
   "metadata": {},
   "outputs": [],
   "source": [
    "from sklearn.ensemble import GradientBoostingClassifier\n",
    "\n",
    "test_err = []\n",
    "train_err = []\n",
    "tree_count = np.logspace(2,3, num=30, dtype=int)\n",
    "for n in tree_count:\n",
    "    classifier = GradientBoostingClassifier (\n",
    "        n_estimators=n,\n",
    "        max_depth=4,\n",
    "        subsample=0.9,\n",
    "        random_state=23)\n",
    "    classifier.fit(X_train, y_train)\n",
    "    y_train_pred = classifier.predict(X_train)\n",
    "    y_test_pred = classifier.predict(X_test)\n",
    "    train_err.append(np.mean(y_train != y_train_pred))\n",
    "    test_err.append(np.mean(y_test != y_test_pred))"
   ]
  },
  {
   "cell_type": "code",
   "execution_count": 22,
   "metadata": {},
   "outputs": [
    {
     "data": {
      "image/png": "[encoded data removed]",
      "text/plain": [
       "<Figure size 432x288 with 1 Axes>"
      ]
     },
     "metadata": {
      "needs_background": "light"
     },
     "output_type": "display_data"
    }
   ],
   "source": [
    "fig = plt.figure()\n",
    "ax = fig.add_subplot(2, 1, 1)\n",
    "\n",
    "plt.plot(tree_count, train_err, color='r', label = 'train')\n",
    "plt.plot(tree_count, test_err, marker='o', linestyle='-', color='b', label = 'test')\n",
    "\n",
    "plt.xlabel('Trees')\n",
    "\n",
    "plt.xticks(tree_count)\n",
    "plt.ylabel('Error')\n",
    "plt.legend()\n",
    "plt.show()"
   ]
  },
  {
   "cell_type": "markdown",
   "metadata": {},
   "source": [
    "Вывод: наилучший результат получился на тех алгоритмах, которые нормльно работают с несбалансированными классами.\n",
    "SVC и BalancedRandomForestClassifier\n",
    "В остальных алгоритмах алгоритм хорошо определяет первый класс и плохо второй"
   ]
  },
  {
   "cell_type": "code",
   "execution_count": null,
   "metadata": {},
   "outputs": [],
   "source": []
  }
 ],
 "metadata": {
  "kernelspec": {
   "display_name": "Python 3",
   "language": "python",
   "name": "python3"
  },
  "language_info": {
   "codemirror_mode": {
    "name": "ipython",
    "version": 3
   },
   "file_extension": ".py",
   "mimetype": "text/x-python",
   "name": "python",
   "nbconvert_exporter": "python",
   "pygments_lexer": "ipython3",
   "version": "3.7.3"
  }
 },
 "nbformat": 4,
 "nbformat_minor": 2
}
